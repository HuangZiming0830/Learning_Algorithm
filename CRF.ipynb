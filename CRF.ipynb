{
 "cells": [
  {
   "cell_type": "code",
   "execution_count": 1,
   "metadata": {},
   "outputs": [],
   "source": [
    "from numpy import *"
   ]
  },
  {
   "cell_type": "code",
   "execution_count": 4,
   "metadata": {},
   "outputs": [
    {
     "name": "stdout",
     "output_type": "stream",
     "text": [
      "24.532530197109345\n",
      "24.532530197109352\n"
     ]
    }
   ],
   "source": [
    "# 转移矩阵T\n",
    "T1 = [[0.6, 1],[1, 0]]\n",
    "T2 = [[0, 1],[1, 0.2]]\n",
    "S0 = [1, 0.5]   #y1未规划概率\n",
    "S1 = [0.8, 0.5] #y2未规划概率\n",
    "S2 = [0.8, 0.5]\n",
    "Y = [1, 2, 2]  #非规划条件概率标记序列\n",
    "Y = array(Y) -1\n",
    "P = exp(S0[Y[0]])\n",
    "for i in range(1,len(Y)):\n",
    "    P *= exp((eval('S%d' % i)[Y[i]])+ eval('T%d'% i)[Y[i-1]][Y[i]])\n",
    "print(P)\n",
    "print(exp(3.2))"
   ]
  },
  {
   "cell_type": "code",
   "execution_count": 5,
   "metadata": {},
   "outputs": [
    {
     "name": "stdout",
     "output_type": "stream",
     "text": [
      "非规范化概率 24.532530197109345\n"
     ]
    }
   ],
   "source": [
    "F0 = S0\n",
    "F1 = T1 + array(S1 * len(T1)).reshape(shape(T1))\n",
    "F2 = T2 + array(S2 * len(T2)).reshape(shape(T2))\n",
    "Y = [1, 2, 2]\n",
    "Y = array(Y) - 1\n",
    "P = exp(F0[Y[0]])\n",
    "Sum = P\n",
    "for i in range(1, len(Y)):\n",
    "    PIter = exp((eval('F%d'%i)[Y[i-1]][Y[i]]))\n",
    "    P *= PIter\n",
    "    Sum += PIter\n",
    "print('非规范化概率',P)"
   ]
  },
  {
   "cell_type": "code",
   "execution_count": null,
   "metadata": {},
   "outputs": [],
   "source": []
  }
 ],
 "metadata": {
  "kernelspec": {
   "display_name": "Python 3",
   "language": "python",
   "name": "python3"
  },
  "language_info": {
   "codemirror_mode": {
    "name": "ipython",
    "version": 3
   },
   "file_extension": ".py",
   "mimetype": "text/x-python",
   "name": "python",
   "nbconvert_exporter": "python",
   "pygments_lexer": "ipython3",
   "version": "3.7.3"
  }
 },
 "nbformat": 4,
 "nbformat_minor": 2
}
